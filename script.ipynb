{
 "cells": [
  {
   "cell_type": "markdown",
   "metadata": {},
   "source": [
    "# Hacktiv8 Phase 1: Graded Challenge 4\n",
    "\n",
    "---\n",
    "\n",
    "Graded Challenge ini dibuat guna mengevaluasi pembelajaran pada Hacktiv8 Data Science Fulltime Program khususnya pada konsep Clustering."
   ]
  },
  {
   "cell_type": "markdown",
   "metadata": {},
   "source": [
    "## Introduction"
   ]
  },
  {
   "cell_type": "markdown",
   "metadata": {},
   "source": [
    "By [Rifky Aliffa](https://github.com/Penzragon)"
   ]
  },
  {
   "cell_type": "markdown",
   "metadata": {},
   "source": [
    "### Dataset"
   ]
  },
  {
   "cell_type": "markdown",
   "metadata": {},
   "source": [
    "Pada project kali ini dataset yang digunakan adalah data dari customers kartu kredit sebuah bank. Dataset ini berisi 8950 baris dengan 18 kolom yang di antaranya adalah kolom CUSTID, BALANCE, BALANCEFREQUENCY, PURCHASES, ONEOFFPURCHASES, dan masih banyak lagi. Dataset dapat dilihat di [Kaggle](https://www.kaggle.com/arjunbhasin2013/ccdata).\n",
    "\n",
    "Keterangan kolom pada dataset ini adalah:\n",
    "\n",
    "| Feature                        | Description                                                                                                                 |\n",
    "| ------------------------------ | --------------------------------------------------------------------------------------------------------------------------- |\n",
    "| CUSTID                         | Identification of Credit Card holder (Categorical)                                                                          |\n",
    "| BALANCE                        | Balance amount left in their account to make purchases                                                                      |\n",
    "| BALANCEFREQUENCY               | How frequently the Balance is updated, score between 0 and 1 (1 = frequently updated, 0 = not frequently updated)           |\n",
    "| PURCHASES                      | Amount of purchases made from account                                                                                       |\n",
    "| ONEOFFPURCHASES                | Maximum purchase amount done in one-go                                                                                      |\n",
    "| INSTALLMENTSPURCHASES          | Amount of purchase done in installment                                                                                      |\n",
    "| CASHADVANCE                    | Cash in advance given by the user                                                                                           |\n",
    "| PURCHASESFREQUENCY             | How frequently the Purchases are being made, score between 0 and 1 (1 = frequently purchased, 0 = not frequently purchased) |\n",
    "| ONEOFFPURCHASESFREQUENCY       | How frequently Purchases are happening in one-go (1 = frequently purchased, 0 = not frequently purchased)                   |\n",
    "| PURCHASESINSTALLMENTSFREQUENCY | How frequently purchases in installments are being done (1 = frequently done, 0 = not frequently done)                      |\n",
    "| CASHADVANCEFREQUENCY           | How frequently the cash in advance being paid                                                                               |\n",
    "| CASHADVANCETRX                 | Number of Transactions made with \"Cash in Advanced\"                                                                         |\n",
    "| PURCHASESTRX                   | Number of purchase transactions made                                                                                        |\n",
    "| CREDITLIMIT                    | Limit of Credit Card for user                                                                                               |\n",
    "| PAYMENTS                       | Amount of Payment done by user                                                                                              |\n",
    "| PAYMENTS                       | Minimum amount of payments made by user                                                                                     |"
   ]
  },
  {
   "cell_type": "markdown",
   "metadata": {},
   "source": [
    "### Objectives"
   ]
  },
  {
   "cell_type": "markdown",
   "metadata": {},
   "source": [
    "**Graded Challenge 4** ini dibuat guna mengevaluasi konsep Clustering sebagai berikut:\n",
    "\n",
    "- Mampu memahami konsep Clustering dengan menggunakan Scikit-Learn.\n",
    "- Mampu mempersiapkan data untuk digunakan dalam Clustering.\n",
    "- Mampu mengimplementasikan Clustering pada data yang diberikan."
   ]
  }
 ],
 "metadata": {
  "interpreter": {
   "hash": "aa9e1a1d5fc59c64a36ca54f7d8a22385cd9af1c34966b28ec5cc3b7d8afa19f"
  },
  "kernelspec": {
   "display_name": "Python 3.9.1 64-bit",
   "language": "python",
   "name": "python3"
  },
  "language_info": {
   "codemirror_mode": {
    "name": "ipython",
    "version": 3
   },
   "file_extension": ".py",
   "mimetype": "text/x-python",
   "name": "python",
   "nbconvert_exporter": "python",
   "pygments_lexer": "ipython3",
   "version": "3.9.1"
  },
  "orig_nbformat": 4
 },
 "nbformat": 4,
 "nbformat_minor": 2
}
